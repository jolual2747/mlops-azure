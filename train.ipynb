{
 "cells": [
  {
   "cell_type": "markdown",
   "metadata": {},
   "source": [
    "## Training \n",
    "\n",
    "The main task on this dataset is to predict based on the given attributes of a patient that whether that particular person has heart disease or not and other is the experimental task to diagnose and find out various insights from this dataset which could help in understanding the problem more."
   ]
  },
  {
   "cell_type": "markdown",
   "metadata": {},
   "source": [
    "#### Libraries and modules to use"
   ]
  },
  {
   "cell_type": "code",
   "execution_count": 1,
   "metadata": {},
   "outputs": [],
   "source": [
    "from sklearn.linear_model import LogisticRegression\n",
    "from sklearn.tree import DecisionTreeClassifier\n",
    "from sklearn.ensemble import RandomForestClassifier\n",
    "from sklearn import metrics\n",
    "from sklearn.preprocessing import MinMaxScaler, OneHotEncoder\n",
    "from sklearn.compose import ColumnTransformer\n",
    "from sklearn.pipeline import Pipeline\n",
    "import pandas as pd\n",
    "import mlflow"
   ]
  },
  {
   "cell_type": "markdown",
   "metadata": {},
   "source": [
    "#### Data reading"
   ]
  },
  {
   "cell_type": "code",
   "execution_count": 18,
   "metadata": {},
   "outputs": [
    {
     "data": {
      "text/plain": [
       "b'age,sex,cp,trestbps,chol,fbs,restecg,thalach,exang,oldpeak,slope,ca,thal,target\\n63,1,1,145,233,1,2,150,0,2.3,3,0,fixed,0\\n67,1,4,160,286,0,2,108,1,1.5,2,3,normal,1\\n67,1,4,120,229,0,2,129,1,2.6,2,2,reversible,0\\n37,1,3,130,250,0,0,187,0,3.5,3,0,normal,0\\n41,0,2,130,204,0,2,172,0,1.4,1,0,normal,0\\n56,1,2,120,236,0,0,178,0,0.8,1,0,normal,0\\n62,0,4,140,268,0,2,160,0,3.6,3,2,normal,1\\n57,0,4,120,354,0,0,163,1,0.6,1,0,normal,0\\n63,1,4,130,254,0,2,147,0,1.4,2,1,reversible,1\\n53,1,4,140,203,1,2,155,1,3.1,3,0,reversible,0\\n57,1,4,140,192,0,0,148,0,0.4,2,0,fixed,0\\n56,0,2,140,294,0,2,153,0,1.3,2,0,normal,0\\n56,1,3,130,256,1,2,142,1,0.6,2,1,fixed,1\\n44,1,2,120,263,0,0,173,0,0.0,1,0,reversible,0\\n52,1,3,172,199,1,0,162,0,0.5,1,0,reversible,0\\n57,1,3,150,168,0,0,174,0,1.6,1,0,normal,0\\n48,1,2,110,229,0,0,168,0,1.0,3,0,reversible,0\\n54,1,4,140,239,0,0,160,0,1.2,1,0,normal,0\\n48,0,3,130,275,0,0,139,0,0.2,1,0,normal,0\\n49,1,2,130,266,0,0,171,0,0.6,1,0,normal,0\\n64,1,1,110,211,0,2,144,1,1.8,2,0,normal,0\\n58,0,1,150,283,1,2,162,0,1.0,1,0,normal,0\\n58,1,2,120,284,0,2,160,0,1.8,2,0,normal,0\\n58,1,3,132,224,0,2,173,0,3.2,1,2,reversible,1\\n60,1,4,130,206,0,2,132,1,2.4,2,2,reversible,1\\n50,0,3,120,219,0,0,158,0,1.6,2,0,normal,0\\n58,0,3,120,340,0,0,172,0,0.0,1,0,normal,0\\n66,0,1,150,226,0,0,114,0,2.6,3,0,normal,0\\n43,1,4,150,247,0,0,171,0,1.5,1,0,normal,0\\n40,1,4,110,167,0,2,114,1,2.0,2,0,reversible,1\\n69,0,1,140,239,0,0,151,0,1.8,1,2,normal,0\\n60,1,4,117,230,1,0,160,1,1.4,1,2,reversible,1\\n64,1,3,140,335,0,0,158,0,0.0,1,0,normal,0\\n59,1,4,135,234,0,0,161,0,0.5,2,0,reversible,0\\n44,1,3,130,233,0,0,179,1,0.4,1,0,normal,0\\n42,1,4,140,226,0,0,178,0,0.0,1,0,normal,0\\n43,1,4,120,177,0,2,120,1,2.5,2,0,reversible,1\\n57,1,4,150,276,0,2,112,1,0.6,2,1,fixed,0\\n55,1,4,132,353,0,0,132,1,1.2,2,1,reversible,1\\n61,1,3,150,243,1,0,137,1,1.0,2,0,normal,0\\n65,0,4,150,225,0,2,114,0,1.0,2,3,reversible,1\\n65,0,3,155,269,0,0,148,0,0.8,1,0,normal,0\\n67,1,4,125,254,1,0,163,0,0.2,2,2,reversible,1\\n62,1,4,120,267,0,0,99,1,1.8,2,2,reversible,0\\n65,1,4,110,248,0,2,158,0,0.6,1,2,fixed,0\\n44,1,4,110,197,0,2,177,0,0.0,1,1,normal,0\\n65,0,3,160,360,0,2,151,0,0.8,1,0,normal,0\\n60,1,4,125,258,0,2,141,1,2.8,2,1,reversible,0\\n51,0,3,140,308,0,2,142,0,1.5,1,1,normal,0\\n48,1,2,130,245,0,2,180,0,0.2,2,0,normal,0\\n58,1,4,150,270,0,2,111,1,0.8,1,0,reversible,1\\n45,1,4,104,208,0,2,148,1,3.0,2,0,normal,0\\n53,0,4,130,264,0,2,143,0,0.4,2,0,normal,0\\n39,1,3,140,321,0,2,182,0,0.0,1,0,normal,0\\n68,1,3,180,274,1,2,150,1,1.6,2,0,reversible,1\\n52,1,2,120,325,0,0,172,0,0.2,1,0,normal,0\\n44,1,3,140,235,0,2,180,0,0.0,1,0,normal,0\\n47,1,3,138,257,0,2,156,0,0.0,1,0,normal,0\\n53,0,4,138,234,0,2,160,0,0.0,1,0,normal,0\\n51,0,3,130,256,0,2,149,0,0.5,1,0,normal,0\\n66,1,4,120,302,0,2,151,0,0.4,2,0,normal,0\\n62,0,4,160,164,0,2,145,0,6.2,3,3,reversible,1\\n62,1,3,130,231,0,0,146,0,1.8,2,3,reversible,0\\n44,0,3,108,141,0,0,175,0,0.6,2,0,normal,0\\n63,0,3,135,252,0,2,172,0,0.0,1,0,normal,0\\n52,1,4,128,255,0,0,161,1,0.0,1,1,reversible,0\\n62,0,3,130,263,0,0,97,0,1.2,2,1,reversible,1\\n41,1,2,135,203,0,0,132,0,0.0,2,0,fixed,0\\n58,1,3,140,211,1,2,165,0,0.0,1,0,normal,0\\n35,0,4,138,183,0,0,182,0,1.4,1,0,normal,0\\n63,1,4,130,330,1,2,132,1,1.8,1,3,reversible,1\\n51,1,3,100,222,0,0,143,1,1.2,2,0,normal,0\\n55,1,4,140,217,0,0,111,1,5.6,3,0,reversible,1\\n65,1,1,138,282,1,2,174,0,1.4,2,1,normal,0\\n45,0,2,130,234,0,2,175,0,0.6,2,0,normal,0\\n56,0,4,200,288,1,2,133,1,4.0,3,2,reversible,1\\n54,1,4,110,239,0,0,126,1,2.8,2,1,reversible,1\\n44,1,2,120,220,0,0,170,0,0.0,1,0,normal,0\\n62,0,4,124,209,0,0,163,0,0.0,1,0,normal,0\\n54,1,3,120,258,0,2,147,0,0.4,2,0,reversible,0\\n51,1,3,94,227,0,0,154,1,0.0,1,1,reversible,0\\n29,1,2,130,204,0,2,202,0,0.0,1,0,normal,0\\n51,1,4,140,261,0,2,186,1,0.0,1,0,normal,0\\n43,0,3,122,213,0,0,165,0,0.2,2,0,normal,0\\n55,0,2,135,250,0,2,161,0,1.4,2,0,normal,0\\n70,1,4,145,174,0,0,125,1,2.6,3,0,reversible,1\\n62,1,2,120,281,0,2,103,0,1.4,2,1,reversible,1\\n35,1,4,120,198,0,0,130,1,1.6,2,0,reversible,0\\n51,1,3,125,245,1,2,166,0,2.4,2,0,normal,0\\n59,1,2,140,221,0,0,164,1,0.0,1,0,normal,0\\n59,1,1,170,288,0,2,159,0,0.2,2,0,reversible,0\\n52,1,2,128,205,1,0,184,0,0.0,1,0,normal,0\\n64,1,3,125,309,0,0,131,1,1.8,2,0,reversible,0\\n58,1,3,105,240,0,2,154,1,0.6,2,0,reversible,0\\n47,1,3,108,243,0,0,152,0,0.0,1,0,normal,0\\n57,1,4,165,289,1,2,124,0,1.0,2,3,reversible,1\\n41,1,3,112,250,0,0,179,0,0.0,1,0,normal,0\\n45,1,2,128,308,0,2,170,0,0.0,1,0,normal,0\\n60,0,3,102,318,0,0,160,0,0.0,1,1,normal,0\\n52,1,1,152,298,1,0,178,0,1.2,2,0,reversible,0\\n42,0,4,102,265,0,2,122,0,0.6,2,0,normal,0\\n67,0,3,115,564,0,2,160,0,1.6,2,0,reversible,0\\n55,1,4,160,289,0,2,145,1,0.8,2,1,reversible,1\\n64,1,4,120,246,0,2,96,1,2.2,3,1,normal,1\\n70,1,4,130,322,0,2,109,0,2.4,2,3,normal,0\\n51,1,4,140,299,0,0,173,1,1.6,1,0,reversible,0\\n58,1,4,125,300,0,2,171,0,0.0,1,2,reversible,0\\n60,1,4,140,293,0,2,170,0,1.2,2,2,reversible,1\\n68,1,3,118,277,0,0,151,0,1.0,1,1,reversible,0\\n46,1,2,101,197,1,0,156,0,0.0,1,0,reversible,0\\n77,1,4,125,304,0,2,162,1,0.0,1,3,normal,1\\n54,0,3,110,214,0,0,158,0,1.6,2,0,normal,0\\n58,0,4,100,248,0,2,122,0,1.0,2,0,normal,0\\n48,1,3,124,255,1,0,175,0,0.0,1,2,normal,0\\n57,1,4,132,207,0,0,168,1,0.0,1,0,reversible,0\\n54,0,2,132,288,1,2,159,1,0.0,1,1,normal,0\\n35,1,4,126,282,0,2,156,1,0.0,1,0,reversible,0\\n45,0,2,112,160,0,0,138,0,0.0,2,0,normal,0\\n70,1,3,160,269,0,0,112,1,2.9,2,1,reversible,1\\n53,1,4,142,226,0,2,111,1,0.0,1,0,reversible,0\\n59,0,4,174,249,0,0,143,1,0.0,2,0,normal,0\\n62,0,4,140,394,0,2,157,0,1.2,2,0,normal,0\\n64,1,4,145,212,0,2,132,0,2.0,2,2,fixed,1\\n57,1,4,152,274,0,0,88,1,1.2,2,1,reversible,0\\n52,1,4,108,233,1,0,147,0,0.1,1,3,reversible,0\\n56,1,4,132,184,0,2,105,1,2.1,2,1,fixed,0\\n43,1,3,130,315,0,0,162,0,1.9,1,1,normal,0\\n53,1,3,130,246,1,2,173,0,0.0,1,3,normal,0\\n48,1,4,124,274,0,2,166,0,0.5,2,0,reversible,1\\n56,0,4,134,409,0,2,150,1,1.9,2,2,reversible,1\\n42,1,1,148,244,0,2,178,0,0.8,1,2,normal,0\\n59,1,1,178,270,0,2,145,0,4.2,3,0,reversible,0\\n60,0,4,158,305,0,2,161,0,0.0,1,0,normal,0\\n63,0,2,140,195,0,0,179,0,0.0,1,2,normal,0\\n42,1,3,120,240,1,0,194,0,0.8,3,0,reversible,0\\n66,1,2,160,246,0,0,120,1,0.0,2,3,fixed,1\\n54,1,2,192,283,0,2,195,0,0.0,1,1,reversible,0\\n69,1,3,140,254,0,2,146,0,2.0,2,3,reversible,1\\n50,1,3,129,196,0,0,163,0,0.0,1,0,normal,0\\n51,1,4,140,298,0,0,122,1,4.2,2,3,reversible,1\\n62,0,4,138,294,1,0,106,0,1.9,2,3,normal,1\\n68,0,3,120,211,0,2,115,0,1.5,2,0,normal,0\\n67,1,4,100,299,0,2,125,1,0.9,2,2,normal,1\\n69,1,1,160,234,1,2,131,0,0.1,2,1,normal,0\\n45,0,4,138,236,0,2,152,1,0.2,2,0,normal,0\\n50,0,2,120,244,0,0,162,0,1.1,1,0,normal,0\\n59,1,1,160,273,0,2,125,0,0.0,1,0,normal,0\\n50,0,4,110,254,0,2,159,0,0.0,1,0,normal,0\\n64,0,4,180,325,0,0,154,1,0.0,1,0,normal,0\\n57,1,3,150,126,1,0,173,0,0.2,1,1,reversible,0\\n64,0,3,140,313,0,0,133,0,0.2,1,0,reversible,0\\n43,1,4,110,211,0,0,161,0,0.0,1,0,reversible,0\\n45,1,4,142,309,0,2,147,1,0.0,2,3,reversible,1\\n58,1,4,128,259,0,2,130,1,3.0,2,2,reversible,1\\n50,1,4,144,200,0,2,126,1,0.9,2,0,reversible,1\\n55,1,2,130,262,0,0,155,0,0.0,1,0,normal,0\\n62,0,4,150,244,0,0,154,1,1.4,2,0,normal,0\\n37,0,3,120,215,0,0,170,0,0.0,1,0,normal,0\\n38,1,1,120,231,0,0,182,1,3.8,2,0,reversible,1\\n41,1,3,130,214,0,2,168,0,2.0,2,0,normal,0\\n66,0,4,178,228,1,0,165,1,1.0,2,2,reversible,1\\n52,1,4,112,230,0,0,160,0,0.0,1,1,normal,0\\n56,1,1,120,193,0,2,162,0,1.9,2,0,reversible,0\\n46,0,2,105,204,0,0,172,0,0.0,1,0,normal,0\\n46,0,4,138,243,0,2,152,1,0.0,2,0,normal,0\\n64,0,4,130,303,0,0,122,0,2.0,2,2,normal,0\\n59,1,4,138,271,0,2,182,0,0.0,1,0,normal,0\\n41,0,3,112,268,0,2,172,1,0.0,1,0,normal,0\\n54,0,3,108,267,0,2,167,0,0.0,1,0,normal,0\\n39,0,3,94,199,0,0,179,0,0.0,1,0,normal,0\\n53,1,4,123,282,0,0,95,1,2.0,2,2,reversible,1\\n63,0,4,108,269,0,0,169,1,1.8,2,2,normal,0\\n34,0,2,118,210,0,0,192,0,0.7,1,0,normal,0\\n47,1,4,112,204,0,0,143,0,0.1,1,0,normal,0\\n67,0,3,152,277,0,0,172,0,0.0,1,1,normal,0\\n54,1,4,110,206,0,2,108,1,0.0,2,1,normal,1\\n66,1,4,112,212,0,2,132,1,0.1,1,1,normal,1\\n52,0,3,136,196,0,2,169,0,0.1,2,0,normal,0\\n55,0,4,180,327,0,1,117,1,3.4,2,0,normal,1\\n49,1,3,118,149,0,2,126,0,0.8,1,3,normal,0\\n74,0,2,120,269,0,2,121,1,0.2,1,1,normal,0\\n54,0,3,160,201,0,0,163,0,0.0,1,1,normal,0\\n54,1,4,122,286,0,2,116,1,3.2,2,2,normal,1\\n56,1,4,130,283,1,2,103,1,1.6,3,0,reversible,1\\n46,1,4,120,249,0,2,144,0,0.8,1,0,reversible,0\\n49,0,2,134,271,0,0,162,0,0.0,2,0,normal,0\\n42,1,2,120,295,0,0,162,0,0.0,1,0,normal,0\\n41,1,2,110,235,0,0,153,0,0.0,1,0,normal,0\\n41,0,2,126,306,0,0,163,0,0.0,1,0,normal,0\\n49,0,4,130,269,0,0,163,0,0.0,1,0,normal,0\\n61,1,1,134,234,0,0,145,0,2.6,2,2,normal,1\\n60,0,3,120,178,1,0,96,0,0.0,1,0,normal,0\\n67,1,4,120,237,0,0,71,0,1.0,2,0,normal,1\\n58,1,4,100,234,0,0,156,0,0.1,1,1,reversible,1\\n47,1,4,110,275,0,2,118,1,1.0,2,1,normal,0\\n52,1,4,125,212,0,0,168,0,1.0,1,2,reversible,1\\n62,1,2,128,208,1,2,140,0,0.0,1,0,normal,0\\n57,1,4,110,201,0,0,126,1,1.5,2,0,fixed,0\\n58,1,4,146,218,0,0,105,0,2.0,2,1,reversible,0\\n64,1,4,128,263,0,0,105,1,0.2,2,1,reversible,0\\n51,0,3,120,295,0,2,157,0,0.6,1,0,normal,0\\n43,1,4,115,303,0,0,181,0,1.2,2,0,normal,0\\n42,0,3,120,209,0,0,173,0,0.0,2,0,normal,0\\n67,0,4,106,223,0,0,142,0,0.3,1,2,normal,0\\n76,0,3,140,197,0,1,116,0,1.1,2,0,normal,0\\n70,1,2,156,245,0,2,143,0,0.0,1,0,normal,0\\n57,1,2,124,261,0,0,141,0,0.3,1,0,reversible,0\\n44,0,3,118,242,0,0,149,0,0.3,2,1,normal,0\\n58,0,2,136,319,1,2,152,0,0.0,1,2,normal,1\\n60,0,1,150,240,0,0,171,0,0.9,1,0,normal,0\\n44,1,3,120,226,0,0,169,0,0.0,1,0,normal,0\\n61,1,4,138,166,0,2,125,1,3.6,2,1,normal,1\\n42,1,4,136,315,0,0,125,1,1.8,2,0,fixed,1\\n59,1,3,126,218,1,0,134,0,2.2,2,1,fixed,1\\n40,1,4,152,223,0,0,181,0,0.0,1,0,reversible,0\\n42,1,3,130,180,0,0,150,0,0.0,1,0,normal,0\\n61,1,4,140,207,0,2,138,1,1.9,1,1,reversible,0\\n66,1,4,160,228,0,2,138,0,2.3,1,0,fixed,0\\n46,1,4,140,311,0,0,120,1,1.8,2,2,reversible,1\\n71,0,4,112,149,0,0,125,0,1.6,2,0,normal,0\\n59,1,1,134,204,0,0,162,0,0.8,1,2,normal,0\\n64,1,1,170,227,0,2,155,0,0.6,2,0,reversible,0\\n66,0,3,146,278,0,2,152,0,0.0,2,1,normal,0\\n39,0,3,138,220,0,0,152,0,0.0,2,0,normal,0\\n57,1,2,154,232,0,2,164,0,0.0,1,1,normal,0\\n58,0,4,130,197,0,0,131,0,0.6,2,0,normal,0\\n57,1,4,110,335,0,0,143,1,3.0,2,1,reversible,1\\n47,1,3,130,253,0,0,179,0,0.0,1,0,normal,0\\n55,0,4,128,205,0,1,130,1,2.0,2,1,reversible,1\\n35,1,2,122,192,0,0,174,0,0.0,1,0,normal,0\\n61,1,4,148,203,0,0,161,0,0.0,1,1,reversible,1\\n58,1,4,114,318,0,1,140,0,4.4,3,3,fixed,1\\n58,0,4,170,225,1,2,146,1,2.8,2,2,fixed,1\\n56,1,2,130,221,0,2,163,0,0.0,1,0,reversible,0\\n56,1,2,120,240,0,0,169,0,0.0,3,0,normal,0\\n67,1,3,152,212,0,2,150,0,0.8,2,0,reversible,0\\n55,0,2,132,342,0,0,166,0,1.2,1,0,normal,0\\n44,1,4,120,169,0,0,144,1,2.8,3,0,fixed,1\\n63,1,4,140,187,0,2,144,1,4.0,1,2,reversible,1\\n63,0,4,124,197,0,0,136,1,0.0,2,0,normal,0\\n41,1,2,120,157,0,0,182,0,0.0,1,0,normal,0\\n59,1,4,164,176,1,2,90,0,1.0,2,2,fixed,1\\n57,0,4,140,241,0,0,123,1,0.2,2,0,reversible,0\\n45,1,1,110,264,0,0,132,0,1.2,2,0,reversible,0\\n68,1,4,144,193,1,0,141,0,3.4,2,2,reversible,1\\n57,1,4,130,131,0,0,115,1,1.2,2,1,reversible,1\\n57,0,2,130,236,0,2,174,0,0.0,2,1,normal,0\\n59,1,0,164,176,1,0,90,0,1.0,1,2,1,0\\n57,0,0,140,241,0,1,123,1,0.2,1,0,normal,0\\n45,1,3,110,264,0,1,132,0,1.2,1,0,normal,0\\n68,1,0,144,193,1,1,141,0,3.4,1,2,normal,0\\n57,1,0,130,131,0,1,115,1,1.2,1,1,normal,0\\n57,0,1,130,236,0,0,174,0,0.0,1,1,2,0\\n40,1,1,140,199,0,0,178,1,1.4,1,0,reversible,0\\n71,0,2,160,302,0,0,162,0,0.4,1,2,normal,0\\n59,1,3,150,212,1,0,157,0,1.6,1,0,normal,0\\n61,0,4,130,330,0,2,169,0,0.0,1,0,normal,0\\n58,1,3,112,230,0,2,165,0,2.5,2,1,reversible,1\\n51,1,3,110,175,0,0,123,0,0.6,1,0,normal,0\\n50,1,4,150,243,0,2,128,0,2.6,2,0,reversible,1\\n65,0,3,140,417,1,2,157,0,0.8,1,1,normal,0\\n53,1,3,130,197,1,2,152,0,1.2,3,0,normal,0\\n41,0,2,105,198,0,0,168,0,0.0,1,1,normal,0\\n65,1,4,120,177,0,0,140,0,0.4,1,0,reversible,0\\n44,1,4,112,290,0,2,153,0,0.0,1,1,normal,1\\n44,1,2,130,219,0,2,188,0,0.0,1,0,normal,0\\n60,1,4,130,253,0,0,144,1,1.4,1,1,reversible,0\\n54,1,4,124,266,0,2,109,1,2.2,2,1,reversible,0\\n50,1,3,140,233,0,0,163,0,0.6,2,1,reversible,0\\n41,1,4,110,172,0,2,158,0,0.0,1,0,reversible,0\\n54,1,3,125,273,0,2,152,0,0.5,3,1,normal,0\\n51,1,1,125,213,0,2,125,1,1.4,1,1,normal,0\\n51,0,4,130,305,0,0,142,1,1.2,2,0,reversible,1\\n46,0,3,142,177,0,2,160,1,1.4,3,0,normal,0\\n58,1,4,128,216,0,2,131,1,2.2,2,3,reversible,0\\n54,0,3,135,304,1,0,170,0,0.0,1,0,normal,0\\n54,1,4,120,188,0,0,113,0,1.4,2,1,reversible,1\\n60,1,4,145,282,0,2,142,1,2.8,2,2,reversible,1\\n60,1,3,140,185,0,2,155,0,3.0,2,0,normal,0\\n54,1,3,150,232,0,2,165,0,1.6,1,0,reversible,0\\n59,1,4,170,326,0,2,140,1,3.4,3,0,reversible,1\\n46,1,3,150,231,0,0,147,0,3.6,2,0,normal,0\\n59,1,4,110,239,0,2,142,1,1.2,2,1,reversible,1\\n60,0,4,150,258,0,2,157,0,2.6,2,2,reversible,1\\n52,1,2,134,201,0,0,158,0,0.8,1,1,normal,0\\n48,1,4,122,222,0,2,186,0,0.0,1,0,normal,0\\n45,1,4,115,260,0,2,185,0,0.0,1,0,normal,0\\n34,1,1,118,182,0,2,174,0,0.0,1,0,normal,0\\n57,0,4,128,303,0,2,159,0,0.0,1,1,normal,0\\n71,0,3,110,265,1,2,130,0,0.0,1,1,normal,0\\n49,1,3,120,188,0,0,139,0,2.0,2,3,reversible,1\\n54,1,2,108,309,0,0,156,0,0.0,1,0,reversible,0\\n59,1,4,140,177,0,0,162,1,0.0,1,1,reversible,1\\n57,1,3,128,229,0,2,150,0,0.4,2,1,reversible,0\\n61,1,4,120,260,0,0,140,1,3.6,2,1,reversible,1\\n39,1,4,118,219,0,0,140,0,1.2,2,0,reversible,1\\n61,0,4,145,307,0,2,146,1,1.0,2,0,reversible,0\\n56,1,4,125,249,1,2,144,1,1.2,2,1,normal,0\\n52,1,1,118,186,0,2,190,0,0.0,2,0,fixed,0\\n43,0,4,132,341,1,2,136,1,3.0,2,0,reversible,1\\n65,1,4,135,254,0,2,127,0,2.8,2,1,reversible,1\\n48,1,4,130,256,1,2,150,1,0.0,1,2,reversible,1\\n63,0,4,150,407,0,2,154,0,4.0,2,3,reversible,1\\n'"
      ]
     },
     "execution_count": 18,
     "metadata": {},
     "output_type": "execute_result"
    }
   ],
   "source": [
    "import requests \n",
    "\n",
    "content = requests.get(\"https://mlrawdata123.blob.core.windows.net/rawdata/raw_data.csv\")\n",
    "content.content"
   ]
  },
  {
   "cell_type": "code",
   "execution_count": 24,
   "metadata": {},
   "outputs": [],
   "source": [
    "with open(\"test.csv\", \"wb\") as f:\n",
    "    f.write(content.content)"
   ]
  },
  {
   "cell_type": "code",
   "execution_count": 2,
   "metadata": {},
   "outputs": [
    {
     "data": {
      "text/html": [
       "<div>\n",
       "<style scoped>\n",
       "    .dataframe tbody tr th:only-of-type {\n",
       "        vertical-align: middle;\n",
       "    }\n",
       "\n",
       "    .dataframe tbody tr th {\n",
       "        vertical-align: top;\n",
       "    }\n",
       "\n",
       "    .dataframe thead th {\n",
       "        text-align: right;\n",
       "    }\n",
       "</style>\n",
       "<table border=\"1\" class=\"dataframe\">\n",
       "  <thead>\n",
       "    <tr style=\"text-align: right;\">\n",
       "      <th></th>\n",
       "      <th>age</th>\n",
       "      <th>sex</th>\n",
       "      <th>cp</th>\n",
       "      <th>trestbps</th>\n",
       "      <th>chol</th>\n",
       "      <th>fbs</th>\n",
       "      <th>restecg</th>\n",
       "      <th>thalach</th>\n",
       "      <th>exang</th>\n",
       "      <th>oldpeak</th>\n",
       "      <th>slope</th>\n",
       "      <th>ca</th>\n",
       "      <th>thal</th>\n",
       "      <th>target</th>\n",
       "    </tr>\n",
       "  </thead>\n",
       "  <tbody>\n",
       "    <tr>\n",
       "      <th>0</th>\n",
       "      <td>63</td>\n",
       "      <td>1</td>\n",
       "      <td>1</td>\n",
       "      <td>145</td>\n",
       "      <td>233</td>\n",
       "      <td>1</td>\n",
       "      <td>2</td>\n",
       "      <td>150</td>\n",
       "      <td>0</td>\n",
       "      <td>2.3</td>\n",
       "      <td>3</td>\n",
       "      <td>0</td>\n",
       "      <td>fixed</td>\n",
       "      <td>0</td>\n",
       "    </tr>\n",
       "    <tr>\n",
       "      <th>1</th>\n",
       "      <td>67</td>\n",
       "      <td>1</td>\n",
       "      <td>4</td>\n",
       "      <td>160</td>\n",
       "      <td>286</td>\n",
       "      <td>0</td>\n",
       "      <td>2</td>\n",
       "      <td>108</td>\n",
       "      <td>1</td>\n",
       "      <td>1.5</td>\n",
       "      <td>2</td>\n",
       "      <td>3</td>\n",
       "      <td>normal</td>\n",
       "      <td>1</td>\n",
       "    </tr>\n",
       "    <tr>\n",
       "      <th>2</th>\n",
       "      <td>67</td>\n",
       "      <td>1</td>\n",
       "      <td>4</td>\n",
       "      <td>120</td>\n",
       "      <td>229</td>\n",
       "      <td>0</td>\n",
       "      <td>2</td>\n",
       "      <td>129</td>\n",
       "      <td>1</td>\n",
       "      <td>2.6</td>\n",
       "      <td>2</td>\n",
       "      <td>2</td>\n",
       "      <td>reversible</td>\n",
       "      <td>0</td>\n",
       "    </tr>\n",
       "    <tr>\n",
       "      <th>3</th>\n",
       "      <td>37</td>\n",
       "      <td>1</td>\n",
       "      <td>3</td>\n",
       "      <td>130</td>\n",
       "      <td>250</td>\n",
       "      <td>0</td>\n",
       "      <td>0</td>\n",
       "      <td>187</td>\n",
       "      <td>0</td>\n",
       "      <td>3.5</td>\n",
       "      <td>3</td>\n",
       "      <td>0</td>\n",
       "      <td>normal</td>\n",
       "      <td>0</td>\n",
       "    </tr>\n",
       "    <tr>\n",
       "      <th>4</th>\n",
       "      <td>41</td>\n",
       "      <td>0</td>\n",
       "      <td>2</td>\n",
       "      <td>130</td>\n",
       "      <td>204</td>\n",
       "      <td>0</td>\n",
       "      <td>2</td>\n",
       "      <td>172</td>\n",
       "      <td>0</td>\n",
       "      <td>1.4</td>\n",
       "      <td>1</td>\n",
       "      <td>0</td>\n",
       "      <td>normal</td>\n",
       "      <td>0</td>\n",
       "    </tr>\n",
       "  </tbody>\n",
       "</table>\n",
       "</div>"
      ],
      "text/plain": [
       "   age  sex  cp  trestbps  chol  fbs  restecg  thalach  exang  oldpeak  slope  \\\n",
       "0   63    1   1       145   233    1        2      150      0      2.3      3   \n",
       "1   67    1   4       160   286    0        2      108      1      1.5      2   \n",
       "2   67    1   4       120   229    0        2      129      1      2.6      2   \n",
       "3   37    1   3       130   250    0        0      187      0      3.5      3   \n",
       "4   41    0   2       130   204    0        2      172      0      1.4      1   \n",
       "\n",
       "   ca        thal  target  \n",
       "0   0       fixed       0  \n",
       "1   3      normal       1  \n",
       "2   2  reversible       0  \n",
       "3   0      normal       0  \n",
       "4   0      normal       0  "
      ]
     },
     "execution_count": 2,
     "metadata": {},
     "output_type": "execute_result"
    }
   ],
   "source": [
    "import pandas as pd\n",
    "\n",
    "file_url = \"https://mlrawdata123.blob.core.windows.net/rawdata/raw_data.csv\"\n",
    "df = pd.read_csv(file_url)\n",
    "df.head()"
   ]
  },
  {
   "cell_type": "code",
   "execution_count": 3,
   "metadata": {},
   "outputs": [
    {
     "data": {
      "text/plain": [
       "'{\"age\":63,\"sex\":1,\"cp\":1,\"trestbps\":145,\"chol\":233,\"fbs\":1,\"restecg\":2,\"thalach\":150,\"exang\":0,\"oldpeak\":2.3,\"slope\":3,\"ca\":0,\"thal\":\"fixed\",\"target\":0}'"
      ]
     },
     "execution_count": 3,
     "metadata": {},
     "output_type": "execute_result"
    }
   ],
   "source": [
    "df.loc[0].to_json()"
   ]
  },
  {
   "cell_type": "code",
   "execution_count": 5,
   "metadata": {},
   "outputs": [
    {
     "data": {
      "application/vnd.jupyter.widget-view+json": {
       "model_id": "d9608df0b1f9427aac2db799375989f7",
       "version_major": 2,
       "version_minor": 0
      },
      "text/plain": [
       "Downloading artifacts:   0%|          | 0/5 [00:00<?, ?it/s]"
      ]
     },
     "metadata": {},
     "output_type": "display_data"
    },
    {
     "name": "stderr",
     "output_type": "stream",
     "text": [
      "2024/01/02 14:40:57 WARNING mlflow.pyfunc: Detected one or more mismatches between the model's dependencies and the current Python environment:\n",
      " - mlflow (current: 2.9.2, required: mlflow==2.4)\n",
      " - cloudpickle (current: 2.0.0, required: cloudpickle==2.2.1)\n",
      " - numpy (current: 1.21.5, required: numpy==1.25.0)\n",
      " - packaging (current: 21.3, required: packaging==23.0)\n",
      " - scikit-learn (current: 1.2.0, required: scikit-learn==1.2.2)\n",
      " - scipy (current: 1.9.1, required: scipy==1.10.1)\n",
      "To fix the mismatches, call `mlflow.pyfunc.get_model_dependencies(model_uri)` to fetch the model's environment and install dependencies using the resulting environment file.\n",
      "2024/01/02 14:40:57 WARNING mlflow.pyfunc: The version of Python that the model was saved in, `Python 3.10.11`, differs from the version of Python that is currently running, `Python 3.9.13`, and may be incompatible\n"
     ]
    }
   ],
   "source": [
    "from app.services.model import ModelService\n",
    "from app.services.azureconn import AzuremlCon\n",
    "\n",
    "\n",
    "azmlcon = AzuremlCon()\n",
    "ms = ModelService(azmlcon, model_name='heart_disease_model', model_version=3)"
   ]
  },
  {
   "cell_type": "code",
   "execution_count": 15,
   "metadata": {},
   "outputs": [
    {
     "data": {
      "text/plain": [
       "age           int64\n",
       "sex           int64\n",
       "cp            int64\n",
       "trestbps      int64\n",
       "chol          int64\n",
       "fbs           int64\n",
       "restecg       int64\n",
       "thalach       int64\n",
       "exang         int64\n",
       "oldpeak     float64\n",
       "slope         int64\n",
       "ca            int64\n",
       "thal         object\n",
       "target        int64\n",
       "dtype: object"
      ]
     },
     "execution_count": 15,
     "metadata": {},
     "output_type": "execute_result"
    }
   ],
   "source": [
    "df.dtypes"
   ]
  },
  {
   "cell_type": "markdown",
   "metadata": {},
   "source": [
    "#### Data preprocessing"
   ]
  },
  {
   "cell_type": "markdown",
   "metadata": {},
   "source": [
    "Train-test split"
   ]
  },
  {
   "cell_type": "code",
   "execution_count": 4,
   "metadata": {},
   "outputs": [],
   "source": [
    "from sklearn.model_selection import train_test_split\n",
    "\n",
    "X_train, X_test, y_train, y_test = train_test_split(\n",
    "    df.drop(\"target\", axis=1), df[\"target\"], test_size=0.3\n",
    ")"
   ]
  },
  {
   "cell_type": "markdown",
   "metadata": {},
   "source": [
    "Define numerical and categorical features"
   ]
  },
  {
   "cell_type": "code",
   "execution_count": 5,
   "metadata": {},
   "outputs": [],
   "source": [
    "num_features = X_train.select_dtypes('number').columns.tolist()\n",
    "cat_features = X_train.select_dtypes('object').columns.tolist()"
   ]
  },
  {
   "cell_type": "markdown",
   "metadata": {},
   "source": [
    "Define preprocessing pipeline"
   ]
  },
  {
   "cell_type": "code",
   "execution_count": 6,
   "metadata": {},
   "outputs": [],
   "source": [
    "column_transformer = ColumnTransformer(\n",
    "    [(\"OHE\", OneHotEncoder(sparse_output=False), cat_features),\n",
    "     (\"scaler\", MinMaxScaler(), num_features)\n",
    "     ]\n",
    ").set_output(transform=\"pandas\")"
   ]
  },
  {
   "cell_type": "markdown",
   "metadata": {},
   "source": [
    "### Modeling"
   ]
  },
  {
   "cell_type": "markdown",
   "metadata": {},
   "source": [
    "Set experiment"
   ]
  },
  {
   "cell_type": "code",
   "execution_count": 7,
   "metadata": {},
   "outputs": [
    {
     "ename": "RestException",
     "evalue": "BAD_REQUEST: Response: {'Error': {'Code': 'UserError', 'Severity': None, 'Message': 'Experiment ID must be a GUID - cannot delete based on experiment name.', 'MessageFormat': None, 'MessageParameters': None, 'ReferenceCode': None, 'DetailsUri': None, 'Target': None, 'Details': [], 'InnerError': None, 'DebugInfo': None, 'AdditionalInfo': None}, 'Correlation': {'operation': 'ba198ff3dcd5de2c31be144b5c76348f', 'request': '03dbe9f8441eb1db'}, 'Environment': 'centralus', 'Location': 'centralus', 'Time': '2023-12-19T03:49:54.6256373+00:00', 'ComponentName': 'mlflow', 'statusCode': 400, 'error_code': 'BAD_REQUEST'}",
     "output_type": "error",
     "traceback": [
      "\u001b[0;31m---------------------------------------------------------------------------\u001b[0m",
      "\u001b[0;31mRestException\u001b[0m                             Traceback (most recent call last)",
      "Cell \u001b[0;32mIn[7], line 1\u001b[0m\n\u001b[0;32m----> 1\u001b[0m \u001b[43mmlflow\u001b[49m\u001b[38;5;241;43m.\u001b[39;49m\u001b[43mdelete_experiment\u001b[49m\u001b[43m(\u001b[49m\u001b[38;5;124;43m\"\u001b[39;49m\u001b[38;5;124;43mheart_disease\u001b[39;49m\u001b[38;5;124;43m\"\u001b[39;49m\u001b[43m)\u001b[49m\n",
      "File \u001b[0;32m/anaconda/envs/azureml_py310_sdkv2/lib/python3.10/site-packages/mlflow/tracking/fluent.py:1460\u001b[0m, in \u001b[0;36mdelete_experiment\u001b[0;34m(experiment_id)\u001b[0m\n\u001b[1;32m   1432\u001b[0m \u001b[38;5;28;01mdef\u001b[39;00m \u001b[38;5;21mdelete_experiment\u001b[39m(experiment_id: \u001b[38;5;28mstr\u001b[39m) \u001b[38;5;241m-\u001b[39m\u001b[38;5;241m>\u001b[39m \u001b[38;5;28;01mNone\u001b[39;00m:\n\u001b[1;32m   1433\u001b[0m \u001b[38;5;250m    \u001b[39m\u001b[38;5;124;03m\"\"\"\u001b[39;00m\n\u001b[1;32m   1434\u001b[0m \u001b[38;5;124;03m    Delete an experiment from the backend store.\u001b[39;00m\n\u001b[1;32m   1435\u001b[0m \n\u001b[0;32m   (...)\u001b[0m\n\u001b[1;32m   1458\u001b[0m \u001b[38;5;124;03m        Last Updated timestamp: 1662004217511\u001b[39;00m\n\u001b[1;32m   1459\u001b[0m \u001b[38;5;124;03m    \"\"\"\u001b[39;00m\n\u001b[0;32m-> 1460\u001b[0m     \u001b[43mMlflowClient\u001b[49m\u001b[43m(\u001b[49m\u001b[43m)\u001b[49m\u001b[38;5;241;43m.\u001b[39;49m\u001b[43mdelete_experiment\u001b[49m\u001b[43m(\u001b[49m\u001b[43mexperiment_id\u001b[49m\u001b[43m)\u001b[49m\n",
      "File \u001b[0;32m/anaconda/envs/azureml_py310_sdkv2/lib/python3.10/site-packages/mlflow/tracking/client.py:591\u001b[0m, in \u001b[0;36mMlflowClient.delete_experiment\u001b[0;34m(self, experiment_id)\u001b[0m\n\u001b[1;32m    559\u001b[0m \u001b[38;5;28;01mdef\u001b[39;00m \u001b[38;5;21mdelete_experiment\u001b[39m(\u001b[38;5;28mself\u001b[39m, experiment_id: \u001b[38;5;28mstr\u001b[39m) \u001b[38;5;241m-\u001b[39m\u001b[38;5;241m>\u001b[39m \u001b[38;5;28;01mNone\u001b[39;00m:\n\u001b[1;32m    560\u001b[0m \u001b[38;5;250m    \u001b[39m\u001b[38;5;124;03m\"\"\"\u001b[39;00m\n\u001b[1;32m    561\u001b[0m \u001b[38;5;124;03m    Delete an experiment from the backend store.\u001b[39;00m\n\u001b[1;32m    562\u001b[0m \u001b[38;5;124;03m    This deletion is a soft-delete, not a permanent deletion.\u001b[39;00m\n\u001b[0;32m   (...)\u001b[0m\n\u001b[1;32m    589\u001b[0m \u001b[38;5;124;03m        Lifecycle_stage: deleted\u001b[39;00m\n\u001b[1;32m    590\u001b[0m \u001b[38;5;124;03m    \"\"\"\u001b[39;00m\n\u001b[0;32m--> 591\u001b[0m     \u001b[38;5;28;43mself\u001b[39;49m\u001b[38;5;241;43m.\u001b[39;49m\u001b[43m_tracking_client\u001b[49m\u001b[38;5;241;43m.\u001b[39;49m\u001b[43mdelete_experiment\u001b[49m\u001b[43m(\u001b[49m\u001b[43mexperiment_id\u001b[49m\u001b[43m)\u001b[49m\n",
      "File \u001b[0;32m/anaconda/envs/azureml_py310_sdkv2/lib/python3.10/site-packages/mlflow/tracking/_tracking_service/client.py:248\u001b[0m, in \u001b[0;36mTrackingServiceClient.delete_experiment\u001b[0;34m(self, experiment_id)\u001b[0m\n\u001b[1;32m    242\u001b[0m \u001b[38;5;28;01mdef\u001b[39;00m \u001b[38;5;21mdelete_experiment\u001b[39m(\u001b[38;5;28mself\u001b[39m, experiment_id):\n\u001b[1;32m    243\u001b[0m \u001b[38;5;250m    \u001b[39m\u001b[38;5;124;03m\"\"\"\u001b[39;00m\n\u001b[1;32m    244\u001b[0m \u001b[38;5;124;03m    Delete an experiment from the backend store.\u001b[39;00m\n\u001b[1;32m    245\u001b[0m \n\u001b[1;32m    246\u001b[0m \u001b[38;5;124;03m    :param experiment_id: The experiment ID returned from ``create_experiment``.\u001b[39;00m\n\u001b[1;32m    247\u001b[0m \u001b[38;5;124;03m    \"\"\"\u001b[39;00m\n\u001b[0;32m--> 248\u001b[0m     \u001b[38;5;28;43mself\u001b[39;49m\u001b[38;5;241;43m.\u001b[39;49m\u001b[43mstore\u001b[49m\u001b[38;5;241;43m.\u001b[39;49m\u001b[43mdelete_experiment\u001b[49m\u001b[43m(\u001b[49m\u001b[43mexperiment_id\u001b[49m\u001b[43m)\u001b[49m\n",
      "File \u001b[0;32m/anaconda/envs/azureml_py310_sdkv2/lib/python3.10/site-packages/mlflow/store/tracking/rest_store.py:116\u001b[0m, in \u001b[0;36mRestStore.delete_experiment\u001b[0;34m(self, experiment_id)\u001b[0m\n\u001b[1;32m    114\u001b[0m \u001b[38;5;28;01mdef\u001b[39;00m \u001b[38;5;21mdelete_experiment\u001b[39m(\u001b[38;5;28mself\u001b[39m, experiment_id):\n\u001b[1;32m    115\u001b[0m     req_body \u001b[38;5;241m=\u001b[39m message_to_json(DeleteExperiment(experiment_id\u001b[38;5;241m=\u001b[39m\u001b[38;5;28mstr\u001b[39m(experiment_id)))\n\u001b[0;32m--> 116\u001b[0m     \u001b[38;5;28;43mself\u001b[39;49m\u001b[38;5;241;43m.\u001b[39;49m\u001b[43m_call_endpoint\u001b[49m\u001b[43m(\u001b[49m\u001b[43mDeleteExperiment\u001b[49m\u001b[43m,\u001b[49m\u001b[43m \u001b[49m\u001b[43mreq_body\u001b[49m\u001b[43m)\u001b[49m\n",
      "File \u001b[0;32m/anaconda/envs/azureml_py310_sdkv2/lib/python3.10/site-packages/mlflow/store/tracking/rest_store.py:59\u001b[0m, in \u001b[0;36mRestStore._call_endpoint\u001b[0;34m(self, api, json_body)\u001b[0m\n\u001b[1;32m     57\u001b[0m endpoint, method \u001b[38;5;241m=\u001b[39m _METHOD_TO_INFO[api]\n\u001b[1;32m     58\u001b[0m response_proto \u001b[38;5;241m=\u001b[39m api\u001b[38;5;241m.\u001b[39mResponse()\n\u001b[0;32m---> 59\u001b[0m \u001b[38;5;28;01mreturn\u001b[39;00m \u001b[43mcall_endpoint\u001b[49m\u001b[43m(\u001b[49m\u001b[38;5;28;43mself\u001b[39;49m\u001b[38;5;241;43m.\u001b[39;49m\u001b[43mget_host_creds\u001b[49m\u001b[43m(\u001b[49m\u001b[43m)\u001b[49m\u001b[43m,\u001b[49m\u001b[43m \u001b[49m\u001b[43mendpoint\u001b[49m\u001b[43m,\u001b[49m\u001b[43m \u001b[49m\u001b[43mmethod\u001b[49m\u001b[43m,\u001b[49m\u001b[43m \u001b[49m\u001b[43mjson_body\u001b[49m\u001b[43m,\u001b[49m\u001b[43m \u001b[49m\u001b[43mresponse_proto\u001b[49m\u001b[43m)\u001b[49m\n",
      "File \u001b[0;32m/anaconda/envs/azureml_py310_sdkv2/lib/python3.10/site-packages/mlflow/utils/rest_utils.py:201\u001b[0m, in \u001b[0;36mcall_endpoint\u001b[0;34m(host_creds, endpoint, method, json_body, response_proto, extra_headers)\u001b[0m\n\u001b[1;32m    199\u001b[0m     call_kwargs[\u001b[38;5;124m\"\u001b[39m\u001b[38;5;124mjson\u001b[39m\u001b[38;5;124m\"\u001b[39m] \u001b[38;5;241m=\u001b[39m json_body\n\u001b[1;32m    200\u001b[0m     response \u001b[38;5;241m=\u001b[39m http_request(\u001b[38;5;241m*\u001b[39m\u001b[38;5;241m*\u001b[39mcall_kwargs)\n\u001b[0;32m--> 201\u001b[0m response \u001b[38;5;241m=\u001b[39m \u001b[43mverify_rest_response\u001b[49m\u001b[43m(\u001b[49m\u001b[43mresponse\u001b[49m\u001b[43m,\u001b[49m\u001b[43m \u001b[49m\u001b[43mendpoint\u001b[49m\u001b[43m)\u001b[49m\n\u001b[1;32m    202\u001b[0m js_dict \u001b[38;5;241m=\u001b[39m json\u001b[38;5;241m.\u001b[39mloads(response\u001b[38;5;241m.\u001b[39mtext)\n\u001b[1;32m    203\u001b[0m parse_dict(js_dict\u001b[38;5;241m=\u001b[39mjs_dict, message\u001b[38;5;241m=\u001b[39mresponse_proto)\n",
      "File \u001b[0;32m/anaconda/envs/azureml_py310_sdkv2/lib/python3.10/site-packages/mlflow/utils/rest_utils.py:133\u001b[0m, in \u001b[0;36mverify_rest_response\u001b[0;34m(response, endpoint)\u001b[0m\n\u001b[1;32m    131\u001b[0m \u001b[38;5;28;01mif\u001b[39;00m response\u001b[38;5;241m.\u001b[39mstatus_code \u001b[38;5;241m!=\u001b[39m \u001b[38;5;241m200\u001b[39m:\n\u001b[1;32m    132\u001b[0m     \u001b[38;5;28;01mif\u001b[39;00m _can_parse_as_json_object(response\u001b[38;5;241m.\u001b[39mtext):\n\u001b[0;32m--> 133\u001b[0m         \u001b[38;5;28;01mraise\u001b[39;00m RestException(json\u001b[38;5;241m.\u001b[39mloads(response\u001b[38;5;241m.\u001b[39mtext))\n\u001b[1;32m    134\u001b[0m     \u001b[38;5;28;01melse\u001b[39;00m:\n\u001b[1;32m    135\u001b[0m         base_msg \u001b[38;5;241m=\u001b[39m \u001b[38;5;124m\"\u001b[39m\u001b[38;5;124mAPI request to endpoint \u001b[39m\u001b[38;5;132;01m{}\u001b[39;00m\u001b[38;5;124m failed with error code \u001b[39m\u001b[38;5;132;01m{}\u001b[39;00m\u001b[38;5;124m != 200\u001b[39m\u001b[38;5;124m\"\u001b[39m\u001b[38;5;241m.\u001b[39mformat(\n\u001b[1;32m    136\u001b[0m             endpoint,\n\u001b[1;32m    137\u001b[0m             response\u001b[38;5;241m.\u001b[39mstatus_code,\n\u001b[1;32m    138\u001b[0m         )\n",
      "\u001b[0;31mRestException\u001b[0m: BAD_REQUEST: Response: {'Error': {'Code': 'UserError', 'Severity': None, 'Message': 'Experiment ID must be a GUID - cannot delete based on experiment name.', 'MessageFormat': None, 'MessageParameters': None, 'ReferenceCode': None, 'DetailsUri': None, 'Target': None, 'Details': [], 'InnerError': None, 'DebugInfo': None, 'AdditionalInfo': None}, 'Correlation': {'operation': 'ba198ff3dcd5de2c31be144b5c76348f', 'request': '03dbe9f8441eb1db'}, 'Environment': 'centralus', 'Location': 'centralus', 'Time': '2023-12-19T03:49:54.6256373+00:00', 'ComponentName': 'mlflow', 'statusCode': 400, 'error_code': 'BAD_REQUEST'}"
     ]
    }
   ],
   "source": [
    "mlflow.delete_experiment(\"heart_disease\")"
   ]
  },
  {
   "cell_type": "code",
   "execution_count": null,
   "metadata": {},
   "outputs": [
    {
     "data": {
      "text/plain": [
       "[]"
      ]
     },
     "execution_count": 71,
     "metadata": {},
     "output_type": "execute_result"
    }
   ],
   "source": [
    "mlflow.search_experiments()"
   ]
  },
  {
   "cell_type": "code",
   "execution_count": 8,
   "metadata": {},
   "outputs": [
    {
     "name": "stderr",
     "output_type": "stream",
     "text": [
      "2023/12/19 03:50:04 INFO mlflow.tracking.fluent: Experiment with name 'heart_disease_exp' does not exist. Creating a new experiment.\n"
     ]
    },
    {
     "data": {
      "text/plain": [
       "<Experiment: artifact_location='', creation_time=1702957804159, experiment_id='d8fd18d1-884d-4a8d-8f4a-8eddef71c4d2', last_update_time=None, lifecycle_stage='active', name='heart_disease_exp', tags={}>"
      ]
     },
     "execution_count": 8,
     "metadata": {},
     "output_type": "execute_result"
    }
   ],
   "source": [
    "mlflow.set_experiment(experiment_name=\"heart_disease_exp\")"
   ]
  },
  {
   "cell_type": "markdown",
   "metadata": {},
   "source": [
    "#### Logistic regression"
   ]
  },
  {
   "cell_type": "code",
   "execution_count": 9,
   "metadata": {},
   "outputs": [
    {
     "name": "stderr",
     "output_type": "stream",
     "text": [
      "/anaconda/envs/azureml_py310_sdkv2/lib/python3.10/site-packages/_distutils_hack/__init__.py:33: UserWarning: Setuptools is replacing distutils.\n",
      "  warnings.warn(\"Setuptools is replacing distutils.\")\n"
     ]
    }
   ],
   "source": [
    "with mlflow.start_run(run_name = 'log_reg_baseline'):\n",
    "    model_name = LogisticRegression().__class__.__name__\n",
    "    mlflow.set_tag('model_name',model_name)\n",
    "\n",
    "    pipe = Pipeline(steps = [\n",
    "        (\"transformers\", column_transformer),\n",
    "        (model_name, LogisticRegression(random_state=1234, penalty='l2'))\n",
    "    ])\n",
    "\n",
    "    pipe.fit(X_train, y_train)\n",
    "\n",
    "    y_pred = pipe.predict(X_test)\n",
    "    y_pred_prob = pipe.predict_proba(X_test)[:,1]\n",
    "\n",
    "    accuracy = metrics.accuracy_score(y_true=y_test, y_pred=y_pred)\n",
    "    recall = metrics.recall_score(y_true=y_test, y_pred=y_pred)\n",
    "    precision = metrics.recall_score(y_true=y_test, y_pred=y_pred)\n",
    "    auc_score = metrics.roc_auc_score(y_true=y_test, y_score=y_pred_prob)\n",
    "\n",
    "    mlflow.log_metrics({\"test_accuracy\": accuracy, \"test_recall\": recall, \"test_precision\": precision,\n",
    "                        \"test_auc\": auc_score})\n",
    "    \n",
    "    mlflow.log_param(\"penalty\", \"l2\")\n",
    "\n",
    "    mlflow.sklearn.log_model(pipe, f\"heart_disease_{model_name}\")"
   ]
  },
  {
   "cell_type": "markdown",
   "metadata": {},
   "source": [
    "#### Decision Tree"
   ]
  },
  {
   "cell_type": "code",
   "execution_count": 11,
   "metadata": {},
   "outputs": [],
   "source": [
    "with mlflow.start_run(run_name = 'decision_tree'):\n",
    "    model_name = DecisionTreeClassifier().__class__.__name__\n",
    "    mlflow.set_tag('model_name',model_name)\n",
    "\n",
    "    pipe = Pipeline(steps = [\n",
    "        (\"transformers\", column_transformer),\n",
    "        (model_name, DecisionTreeClassifier(random_state=1234, max_depth=10))\n",
    "    ])\n",
    "\n",
    "    pipe.fit(X_train, y_train)\n",
    "\n",
    "    y_pred = pipe.predict(X_test)\n",
    "    y_pred_prob = pipe.predict_proba(X_test)[:,1]\n",
    "\n",
    "    accuracy = metrics.accuracy_score(y_true=y_test, y_pred=y_pred)\n",
    "    recall = metrics.recall_score(y_true=y_test, y_pred=y_pred)\n",
    "    precision = metrics.recall_score(y_true=y_test, y_pred=y_pred)\n",
    "    auc_score = metrics.roc_auc_score(y_true=y_test, y_score=y_pred_prob)\n",
    "\n",
    "    mlflow.log_metrics({\"test_accuracy\": accuracy, \"test_recall\": recall, \"test_precision\": precision,\n",
    "                        \"test_auc\": auc_score})\n",
    "\n",
    "    mlflow.log_param(\"max_depth\", 10)\n",
    "\n",
    "    mlflow.sklearn.log_model(pipe, f\"heart_disease_{model_name}\")"
   ]
  },
  {
   "cell_type": "markdown",
   "metadata": {},
   "source": [
    "#### Random Forest"
   ]
  },
  {
   "cell_type": "code",
   "execution_count": 12,
   "metadata": {},
   "outputs": [],
   "source": [
    "with mlflow.start_run(run_name = 'random_forest'):\n",
    "    model_name = RandomForestClassifier().__class__.__name__\n",
    "    mlflow.set_tag('model_name',model_name)\n",
    "\n",
    "    pipe = Pipeline(steps = [\n",
    "        (\"transformers\", column_transformer),\n",
    "        (model_name, RandomForestClassifier(random_state=1234, n_estimators=50))\n",
    "    ])\n",
    "\n",
    "    pipe.fit(X_train, y_train)\n",
    "\n",
    "    y_pred = pipe.predict(X_test)\n",
    "    y_pred_prob = pipe.predict_proba(X_test)[:,1]\n",
    "\n",
    "    accuracy = metrics.accuracy_score(y_true=y_test, y_pred=y_pred)\n",
    "    recall = metrics.recall_score(y_true=y_test, y_pred=y_pred)\n",
    "    precision = metrics.recall_score(y_true=y_test, y_pred=y_pred)\n",
    "    auc_score = metrics.roc_auc_score(y_true=y_test, y_score=y_pred_prob)\n",
    "\n",
    "    mlflow.log_metrics({\"test_accuracy\": accuracy, \"test_recall\": recall, \"test_precision\": precision,\n",
    "                        \"test_auc\": auc_score})\n",
    "\n",
    "    mlflow.log_param(\"n_estimators\", 50)\n",
    "\n",
    "    mlflow.sklearn.log_model(pipe, f\"heart_disease_{model_name}\")"
   ]
  },
  {
   "cell_type": "markdown",
   "metadata": {},
   "source": [
    "### Model Registry"
   ]
  },
  {
   "cell_type": "markdown",
   "metadata": {},
   "source": [
    "Set MLflow client"
   ]
  },
  {
   "cell_type": "code",
   "execution_count": 31,
   "metadata": {},
   "outputs": [
    {
     "data": {
      "text/plain": [
       "[<Experiment: artifact_location='', creation_time=1702957804159, experiment_id='d8fd18d1-884d-4a8d-8f4a-8eddef71c4d2', last_update_time=None, lifecycle_stage='active', name='heart_disease_exp', tags={}>]"
      ]
     },
     "execution_count": 31,
     "metadata": {},
     "output_type": "execute_result"
    }
   ],
   "source": [
    "from mlflow.tracking import MlflowClient\n",
    "\n",
    "ML_FLOW_TRACKING_URI = mlflow.get_tracking_uri()\n",
    "client = MlflowClient(tracking_uri=ML_FLOW_TRACKING_URI)\n",
    "client.search_experiments()"
   ]
  },
  {
   "cell_type": "code",
   "execution_count": 29,
   "metadata": {},
   "outputs": [],
   "source": [
    "experiment_id = mlflow.get_experiment_by_name(\"heart_disease_exp\").experiment_id"
   ]
  },
  {
   "cell_type": "markdown",
   "metadata": {},
   "source": [
    "Search runs with accuracy higher than 0.79"
   ]
  },
  {
   "cell_type": "code",
   "execution_count": 61,
   "metadata": {},
   "outputs": [
    {
     "data": {
      "text/plain": [
       "[<Run: data=<RunData: metrics={'test_accuracy': 0.7912087912087912,\n",
       "  'test_auc': 0.7301587301587301,\n",
       "  'test_precision': 0.5714285714285714,\n",
       "  'test_recall': 0.5714285714285714}, params={'max_depth': '10'}, tags={'mlflow.rootRunId': '8bb212b8-6697-4960-b9bc-0dff1bbb0d2d',\n",
       "  'mlflow.runName': 'decision_tree',\n",
       "  'mlflow.user': 'Jose Luis Alcocer Cáceres',\n",
       "  'model_name': 'DecisionTreeClassifier'}>, info=<RunInfo: artifact_uri='', end_time=1702957858531, experiment_id='d8fd18d1-884d-4a8d-8f4a-8eddef71c4d2', lifecycle_stage='active', run_id='8bb212b8-6697-4960-b9bc-0dff1bbb0d2d', run_name='decision_tree', run_uuid='8bb212b8-6697-4960-b9bc-0dff1bbb0d2d', start_time=1702957854331, status='FINISHED', user_id='Jose Luis Alcocer Cáceres'>, inputs=<RunInputs: dataset_inputs=[]>>,\n",
       " <Run: data=<RunData: metrics={'test_accuracy': 0.8241758241758241,\n",
       "  'test_auc': 0.9084467120181405,\n",
       "  'test_precision': 0.5357142857142857,\n",
       "  'test_recall': 0.5357142857142857}, params={'n_estimators': '50'}, tags={'mlflow.rootRunId': 'c181a6c4-3f0f-42e6-8e8f-6c6c6167194f',\n",
       "  'mlflow.runName': 'random_forest',\n",
       "  'mlflow.user': 'Jose Luis Alcocer Cáceres',\n",
       "  'model_name': 'RandomForestClassifier'}>, info=<RunInfo: artifact_uri='', end_time=1702958491836, experiment_id='d8fd18d1-884d-4a8d-8f4a-8eddef71c4d2', lifecycle_stage='active', run_id='c181a6c4-3f0f-42e6-8e8f-6c6c6167194f', run_name='random_forest', run_uuid='c181a6c4-3f0f-42e6-8e8f-6c6c6167194f', start_time=1702958486463, status='FINISHED', user_id='Jose Luis Alcocer Cáceres'>, inputs=<RunInputs: dataset_inputs=[]>>]"
      ]
     },
     "execution_count": 61,
     "metadata": {},
     "output_type": "execute_result"
    }
   ],
   "source": [
    "from mlflow.entities import ViewType\n",
    "\n",
    "runs = client.search_runs(\n",
    "    experiment_ids=experiment_id,\n",
    "    filter_string='metrics.test_accuracy > 0.79',\n",
    "    run_view_type=ViewType.ACTIVE_ONLY,\n",
    "    max_results=3\n",
    ")\n",
    "\n",
    "runs"
   ]
  },
  {
   "cell_type": "code",
   "execution_count": 66,
   "metadata": {},
   "outputs": [
    {
     "name": "stdout",
     "output_type": "stream",
     "text": [
      "run id: 8bb212b8-6697-4960-b9bc-0dff1bbb0d2d, test_accuracy: 0.7912,  artifact: heart_disease_DecisionTreeClassifier\n",
      "run id: c181a6c4-3f0f-42e6-8e8f-6c6c6167194f, test_accuracy: 0.8242,  artifact: heart_disease_RandomForestClassifier\n"
     ]
    }
   ],
   "source": [
    "for run in runs:\n",
    "    artifact = client.list_artifacts(run_id=run.info.run_id)[0].path\n",
    "    print(f\"run id: {run.info.run_id}, test_accuracy: {run.data.metrics['test_accuracy']:.4f},  artifact: {artifact}\")"
   ]
  },
  {
   "cell_type": "markdown",
   "metadata": {},
   "source": [
    "Registry Random Forest Classifier"
   ]
  },
  {
   "cell_type": "code",
   "execution_count": 67,
   "metadata": {},
   "outputs": [
    {
     "name": "stderr",
     "output_type": "stream",
     "text": [
      "Successfully registered model 'heart_disease_model'.\n",
      "2023/12/19 04:22:07 INFO mlflow.tracking._model_registry.client: Waiting up to 300 seconds for model version to finish creation. Model name: heart_disease_model, version 1\n",
      "Created version '1' of model 'heart_disease_model'.\n"
     ]
    },
    {
     "data": {
      "text/plain": [
       "<ModelVersion: aliases=[], creation_timestamp=1702959727174, current_stage='None', description='', last_updated_timestamp=1702959727174, name='heart_disease_model', run_id='c181a6c4-3f0f-42e6-8e8f-6c6c6167194f', run_link='', source='azureml://centralus.api.azureml.ms/mlflow/v2.0/subscriptions/fe465efa-7c36-4422-ab58-265e48560849/resourceGroups/machine-learning/providers/Microsoft.MachineLearningServices/workspaces/machine-learning-space/experiments/d8fd18d1-884d-4a8d-8f4a-8eddef71c4d2/runs/c181a6c4-3f0f-42e6-8e8f-6c6c6167194f/artifacts/heart_disease_RandomForestClassifier', status='READY', status_message='', tags={}, user_id='', version='1'>"
      ]
     },
     "execution_count": 67,
     "metadata": {},
     "output_type": "execute_result"
    }
   ],
   "source": [
    "run_id = \"c181a6c4-3f0f-42e6-8e8f-6c6c6167194f\"\n",
    "artifact = \"heart_disease_RandomForestClassifier\"\n",
    "model_uri = f'runs:/{run_id}/{artifact}'\n",
    "mlflow.register_model(model_uri=model_uri, name = 'heart_disease_model')"
   ]
  },
  {
   "cell_type": "markdown",
   "metadata": {},
   "source": [
    "Change stage to production"
   ]
  },
  {
   "cell_type": "code",
   "execution_count": 70,
   "metadata": {},
   "outputs": [
    {
     "data": {
      "text/plain": [
       "<ModelVersion: aliases=[], creation_timestamp=1702959727174, current_stage='Production', description='', last_updated_timestamp=1702959791455, name='heart_disease_model', run_id='c181a6c4-3f0f-42e6-8e8f-6c6c6167194f', run_link='', source='azureml://centralus.api.azureml.ms/mlflow/v2.0/subscriptions/fe465efa-7c36-4422-ab58-265e48560849/resourceGroups/machine-learning/providers/Microsoft.MachineLearningServices/workspaces/machine-learning-space/experiments/d8fd18d1-884d-4a8d-8f4a-8eddef71c4d2/runs/c181a6c4-3f0f-42e6-8e8f-6c6c6167194f/artifacts/heart_disease_RandomForestClassifier', status='READY', status_message='', tags={}, user_id='', version='1'>"
      ]
     },
     "execution_count": 70,
     "metadata": {},
     "output_type": "execute_result"
    }
   ],
   "source": [
    "model_name = 'heart_disease_model'\n",
    "model_version = 1\n",
    "new_stage = 'Production'\n",
    "client.transition_model_version_stage(\n",
    "    name=model_name,\n",
    "    version=model_version,\n",
    "    stage=new_stage,\n",
    "    archive_existing_versions=False\n",
    ")"
   ]
  },
  {
   "cell_type": "code",
   "execution_count": 5,
   "metadata": {},
   "outputs": [
    {
     "data": {
      "text/plain": [
       "True"
      ]
     },
     "execution_count": 5,
     "metadata": {},
     "output_type": "execute_result"
    }
   ],
   "source": [
    "from dotenv import load_dotenv\n",
    "\n",
    "load_dotenv('./secrets.env')"
   ]
  },
  {
   "cell_type": "code",
   "execution_count": 6,
   "metadata": {},
   "outputs": [],
   "source": [
    "import os\n",
    "WORKSPACE = os.getenv('WORKSPACE')\n",
    "WORKSPACE_LOCATION = os.getenv('WORKSPACE_LOCATION')\n",
    "SUBSCRIPTION_ID = os.getenv('SUBSCRIPTION_ID')\n",
    "RESOURCE_GROUP = os.getenv('RESOURCE_GROUP')"
   ]
  },
  {
   "cell_type": "code",
   "execution_count": 6,
   "metadata": {},
   "outputs": [],
   "source": [
    "from mlflow.tracking import MlflowClient\n",
    "import mlflow\n",
    "from azure.ai.ml import MLClient\n",
    "from azure.identity import DefaultAzureCredential"
   ]
  },
  {
   "cell_type": "code",
   "execution_count": 14,
   "metadata": {},
   "outputs": [
    {
     "data": {
      "text/plain": [
       "'0.104.0'"
      ]
     },
     "execution_count": 14,
     "metadata": {},
     "output_type": "execute_result"
    }
   ],
   "source": [
    "import fastapi\n",
    "\n",
    "fastapi.__version__\n"
   ]
  },
  {
   "cell_type": "code",
   "execution_count": 12,
   "metadata": {},
   "outputs": [
    {
     "data": {
      "text/plain": [
       "{'label': '0', 'probability': 0.12}"
      ]
     },
     "execution_count": 12,
     "metadata": {},
     "output_type": "execute_result"
    }
   ],
   "source": [
    "import requests\n",
    "\n",
    "url = \"https://heart-disease-app.blueocean-9995d9bc.centralus.azurecontainerapps.io/predict\"\n",
    "\n",
    "data =        {\n",
    "                \"age\":63,\n",
    "                \"sex\":1,\n",
    "                \"cp\":1,\n",
    "                \"trestbps\":145,\n",
    "                \"chol\":233,\n",
    "                \"fbs\":1,\n",
    "                \"restecg\":2,\n",
    "                \"thalach\":150,\n",
    "                \"exang\":0,\n",
    "                \"oldpeak\":2.3,\n",
    "                \"slope\":3,\n",
    "                \"ca\":0,\n",
    "                \"thal\":\"fixed\"\n",
    "            }\n",
    "\n",
    "response = requests.post(url, json=data)\n",
    "response.json()"
   ]
  },
  {
   "cell_type": "code",
   "execution_count": null,
   "metadata": {},
   "outputs": [],
   "source": [
    "DefaultAzureCredential()"
   ]
  },
  {
   "cell_type": "code",
   "execution_count": 8,
   "metadata": {},
   "outputs": [],
   "source": [
    "ml_client = MLClient(\n",
    "    DefaultAzureCredential(), SUBSCRIPTION_ID, RESOURCE_GROUP, WORKSPACE\n",
    ")"
   ]
  },
  {
   "cell_type": "code",
   "execution_count": 9,
   "metadata": {},
   "outputs": [],
   "source": [
    "azureml_tracking_uri = ml_client.workspaces.get(\n",
    "    ml_client.workspace_name\n",
    ").mlflow_tracking_uri\n",
    "mlflow.set_tracking_uri(azureml_tracking_uri)"
   ]
  },
  {
   "cell_type": "code",
   "execution_count": 11,
   "metadata": {},
   "outputs": [],
   "source": [
    "model_name = \"heart_disease_model\"\n",
    "model_local_path = \"model\"\n",
    "mlflow_client = MlflowClient()\n",
    "model_versions = mlflow_client.search_model_versions(\n",
    "    filter_string=f\"name = '{model_name}'\"\n",
    ")"
   ]
  },
  {
   "cell_type": "code",
   "execution_count": 14,
   "metadata": {},
   "outputs": [
    {
     "data": {
      "text/plain": [
       "True"
      ]
     },
     "execution_count": 14,
     "metadata": {},
     "output_type": "execute_result"
    }
   ],
   "source": [
    "from dotenv import load_dotenv\n",
    "\n",
    "load_dotenv('secrets.env')"
   ]
  },
  {
   "cell_type": "code",
   "execution_count": 15,
   "metadata": {},
   "outputs": [
    {
     "name": "stdout",
     "output_type": "stream",
     "text": [
      "Archivo subido exitosamente\n"
     ]
    }
   ],
   "source": [
    "from azure.storage.blob import BlobServiceClient, BlobClient, ContainerClient\n",
    "import os\n",
    "\n",
    "# Obtener la cadena de conexión de tu cuenta de almacenamiento\n",
    "# Puedes obtenerla desde el portal de Azure o usar una variable de entorno\n",
    "\n",
    "def upload_file_to_azblob(local_file_path:str, blob_name:str, container_name:str):\n",
    "\n",
    "    connect_str = os.getenv('AZURE_STORAGE_CONNECTION_STRING')\n",
    "\n",
    "    # Crear el cliente del servicio Blob\n",
    "    blob_service_client = BlobServiceClient.from_connection_string(connect_str)\n",
    "\n",
    "    try:\n",
    "        # Obtener el cliente del contenedor\n",
    "        container_client = blob_service_client.get_container_client(container_name)\n",
    "\n",
    "        # Crear contenedor si no existe\n",
    "        container_client.create_container()\n",
    "\n",
    "        # Subir archivo al blob\n",
    "        with open(local_file_path, \"rb\") as data:\n",
    "            blob_client = blob_service_client.get_blob_client(container=container_name, blob=blob_name)\n",
    "            blob_client.upload_blob(data)\n",
    "\n",
    "        print(\"Archivo subido exitosamente\")\n",
    "\n",
    "    except Exception as ex:\n",
    "        print(\"Se produjo un error:\", ex)\n"
   ]
  }
 ],
 "metadata": {
  "kernelspec": {
   "display_name": "base",
   "language": "python",
   "name": "python3"
  },
  "language_info": {
   "codemirror_mode": {
    "name": "ipython",
    "version": 3
   },
   "file_extension": ".py",
   "mimetype": "text/x-python",
   "name": "python",
   "nbconvert_exporter": "python",
   "pygments_lexer": "ipython3",
   "version": "3.9.13"
  }
 },
 "nbformat": 4,
 "nbformat_minor": 2
}
