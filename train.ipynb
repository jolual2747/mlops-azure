{
 "cells": [
  {
   "cell_type": "markdown",
   "metadata": {},
   "source": [
    "## Training \n",
    "\n",
    "The main task on this dataset is to predict based on the given attributes of a patient that whether that particular person has heart disease or not and other is the experimental task to diagnose and find out various insights from this dataset which could help in understanding the problem more."
   ]
  },
  {
   "cell_type": "markdown",
   "metadata": {},
   "source": [
    "#### Libraries and modules to use"
   ]
  },
  {
   "cell_type": "code",
   "execution_count": 1,
   "metadata": {},
   "outputs": [],
   "source": [
    "from sklearn.linear_model import LogisticRegression\n",
    "from sklearn.tree import DecisionTreeClassifier\n",
    "from sklearn.ensemble import RandomForestClassifier\n",
    "from sklearn import metrics\n",
    "from sklearn.preprocessing import MinMaxScaler, OneHotEncoder\n",
    "from sklearn.compose import ColumnTransformer\n",
    "from sklearn.pipeline import Pipeline\n",
    "import pandas as pd\n",
    "import mlflow"
   ]
  },
  {
   "cell_type": "markdown",
   "metadata": {},
   "source": [
    "#### Data reading"
   ]
  },
  {
   "cell_type": "code",
   "execution_count": 2,
   "metadata": {},
   "outputs": [
    {
     "data": {
      "text/html": [
       "<div>\n",
       "<style scoped>\n",
       "    .dataframe tbody tr th:only-of-type {\n",
       "        vertical-align: middle;\n",
       "    }\n",
       "\n",
       "    .dataframe tbody tr th {\n",
       "        vertical-align: top;\n",
       "    }\n",
       "\n",
       "    .dataframe thead th {\n",
       "        text-align: right;\n",
       "    }\n",
       "</style>\n",
       "<table border=\"1\" class=\"dataframe\">\n",
       "  <thead>\n",
       "    <tr style=\"text-align: right;\">\n",
       "      <th></th>\n",
       "      <th>age</th>\n",
       "      <th>sex</th>\n",
       "      <th>cp</th>\n",
       "      <th>trestbps</th>\n",
       "      <th>chol</th>\n",
       "      <th>fbs</th>\n",
       "      <th>restecg</th>\n",
       "      <th>thalach</th>\n",
       "      <th>exang</th>\n",
       "      <th>oldpeak</th>\n",
       "      <th>slope</th>\n",
       "      <th>ca</th>\n",
       "      <th>thal</th>\n",
       "      <th>target</th>\n",
       "    </tr>\n",
       "  </thead>\n",
       "  <tbody>\n",
       "    <tr>\n",
       "      <th>0</th>\n",
       "      <td>63</td>\n",
       "      <td>1</td>\n",
       "      <td>1</td>\n",
       "      <td>145</td>\n",
       "      <td>233</td>\n",
       "      <td>1</td>\n",
       "      <td>2</td>\n",
       "      <td>150</td>\n",
       "      <td>0</td>\n",
       "      <td>2.3</td>\n",
       "      <td>3</td>\n",
       "      <td>0</td>\n",
       "      <td>fixed</td>\n",
       "      <td>0</td>\n",
       "    </tr>\n",
       "    <tr>\n",
       "      <th>1</th>\n",
       "      <td>67</td>\n",
       "      <td>1</td>\n",
       "      <td>4</td>\n",
       "      <td>160</td>\n",
       "      <td>286</td>\n",
       "      <td>0</td>\n",
       "      <td>2</td>\n",
       "      <td>108</td>\n",
       "      <td>1</td>\n",
       "      <td>1.5</td>\n",
       "      <td>2</td>\n",
       "      <td>3</td>\n",
       "      <td>normal</td>\n",
       "      <td>1</td>\n",
       "    </tr>\n",
       "    <tr>\n",
       "      <th>2</th>\n",
       "      <td>67</td>\n",
       "      <td>1</td>\n",
       "      <td>4</td>\n",
       "      <td>120</td>\n",
       "      <td>229</td>\n",
       "      <td>0</td>\n",
       "      <td>2</td>\n",
       "      <td>129</td>\n",
       "      <td>1</td>\n",
       "      <td>2.6</td>\n",
       "      <td>2</td>\n",
       "      <td>2</td>\n",
       "      <td>reversible</td>\n",
       "      <td>0</td>\n",
       "    </tr>\n",
       "    <tr>\n",
       "      <th>3</th>\n",
       "      <td>37</td>\n",
       "      <td>1</td>\n",
       "      <td>3</td>\n",
       "      <td>130</td>\n",
       "      <td>250</td>\n",
       "      <td>0</td>\n",
       "      <td>0</td>\n",
       "      <td>187</td>\n",
       "      <td>0</td>\n",
       "      <td>3.5</td>\n",
       "      <td>3</td>\n",
       "      <td>0</td>\n",
       "      <td>normal</td>\n",
       "      <td>0</td>\n",
       "    </tr>\n",
       "    <tr>\n",
       "      <th>4</th>\n",
       "      <td>41</td>\n",
       "      <td>0</td>\n",
       "      <td>2</td>\n",
       "      <td>130</td>\n",
       "      <td>204</td>\n",
       "      <td>0</td>\n",
       "      <td>2</td>\n",
       "      <td>172</td>\n",
       "      <td>0</td>\n",
       "      <td>1.4</td>\n",
       "      <td>1</td>\n",
       "      <td>0</td>\n",
       "      <td>normal</td>\n",
       "      <td>0</td>\n",
       "    </tr>\n",
       "  </tbody>\n",
       "</table>\n",
       "</div>"
      ],
      "text/plain": [
       "   age  sex  cp  trestbps  chol  fbs  restecg  thalach  exang  oldpeak  slope  \\\n",
       "0   63    1   1       145   233    1        2      150      0      2.3      3   \n",
       "1   67    1   4       160   286    0        2      108      1      1.5      2   \n",
       "2   67    1   4       120   229    0        2      129      1      2.6      2   \n",
       "3   37    1   3       130   250    0        0      187      0      3.5      3   \n",
       "4   41    0   2       130   204    0        2      172      0      1.4      1   \n",
       "\n",
       "   ca        thal  target  \n",
       "0   0       fixed       0  \n",
       "1   3      normal       1  \n",
       "2   2  reversible       0  \n",
       "3   0      normal       0  \n",
       "4   0      normal       0  "
      ]
     },
     "execution_count": 2,
     "metadata": {},
     "output_type": "execute_result"
    }
   ],
   "source": [
    "import pandas as pd\n",
    "\n",
    "file_url = \"https://mlrawdata123.blob.core.windows.net/rawdata/raw_data.csv\"\n",
    "df = pd.read_csv(file_url)\n",
    "df.head()"
   ]
  },
  {
   "cell_type": "markdown",
   "metadata": {},
   "source": [
    "#### Data preprocessing"
   ]
  },
  {
   "cell_type": "markdown",
   "metadata": {},
   "source": [
    "Train-test split"
   ]
  },
  {
   "cell_type": "code",
   "execution_count": 3,
   "metadata": {},
   "outputs": [],
   "source": [
    "from sklearn.model_selection import train_test_split\n",
    "\n",
    "X_train, X_test, y_train, y_test = train_test_split(\n",
    "    df.drop(\"target\", axis=1), df[\"target\"], test_size=0.3\n",
    ")"
   ]
  },
  {
   "cell_type": "markdown",
   "metadata": {},
   "source": [
    "Define numerical and categorical features"
   ]
  },
  {
   "cell_type": "code",
   "execution_count": 4,
   "metadata": {},
   "outputs": [],
   "source": [
    "num_features = X_train.select_dtypes('number').columns.tolist()\n",
    "cat_features = X_train.select_dtypes('object').columns.tolist()"
   ]
  },
  {
   "cell_type": "markdown",
   "metadata": {},
   "source": [
    "Define preprocessing pipeline"
   ]
  },
  {
   "cell_type": "code",
   "execution_count": 5,
   "metadata": {},
   "outputs": [],
   "source": [
    "column_transformer = ColumnTransformer(\n",
    "    [(\"OHE\", OneHotEncoder(sparse_output=False), cat_features),\n",
    "     (\"scaler\", MinMaxScaler(), num_features)\n",
    "     ]\n",
    ").set_output(transform=\"pandas\")"
   ]
  },
  {
   "cell_type": "markdown",
   "metadata": {},
   "source": [
    "### Modeling"
   ]
  },
  {
   "cell_type": "markdown",
   "metadata": {},
   "source": [
    "Set experiment"
   ]
  },
  {
   "cell_type": "code",
   "execution_count": 6,
   "metadata": {},
   "outputs": [
    {
     "data": {
      "text/plain": [
       "<Experiment: artifact_location='', creation_time=1704222578148, experiment_id='bf65e0e6-f77a-49c0-a50f-d7826d5ebffe', last_update_time=None, lifecycle_stage='active', name='heart_disease_exp2', tags={}>"
      ]
     },
     "execution_count": 6,
     "metadata": {},
     "output_type": "execute_result"
    }
   ],
   "source": [
    "mlflow.set_experiment(experiment_name=\"heart_disease_exp2\")"
   ]
  },
  {
   "cell_type": "markdown",
   "metadata": {},
   "source": [
    "#### Logistic regression"
   ]
  },
  {
   "cell_type": "code",
   "execution_count": 41,
   "metadata": {},
   "outputs": [
    {
     "name": "stderr",
     "output_type": "stream",
     "text": [
      "/anaconda/envs/azureml_py310_sdkv2/lib/python3.10/site-packages/_distutils_hack/__init__.py:33: UserWarning: Setuptools is replacing distutils.\n",
      "  warnings.warn(\"Setuptools is replacing distutils.\")\n"
     ]
    }
   ],
   "source": [
    "with mlflow.start_run(run_name = 'log_reg_baseline'):\n",
    "    model_name = LogisticRegression().__class__.__name__\n",
    "    mlflow.set_tag('model_name',model_name)\n",
    "\n",
    "    pipe = Pipeline(steps = [\n",
    "        (\"transformers\", column_transformer),\n",
    "        (model_name, LogisticRegression(random_state=1234, penalty='l2'))\n",
    "    ])\n",
    "\n",
    "    pipe.fit(X_train, y_train)\n",
    "\n",
    "    y_pred = pipe.predict(X_test)\n",
    "    y_pred_prob = pipe.predict_proba(X_test)[:,1]\n",
    "\n",
    "    accuracy = metrics.accuracy_score(y_true=y_test, y_pred=y_pred)\n",
    "    recall = metrics.recall_score(y_true=y_test, y_pred=y_pred)\n",
    "    precision = metrics.recall_score(y_true=y_test, y_pred=y_pred)\n",
    "    auc_score = metrics.roc_auc_score(y_true=y_test, y_score=y_pred_prob)\n",
    "\n",
    "    mlflow.log_metrics({\"test_accuracy\": accuracy, \"test_recall\": recall, \"test_precision\": precision,\n",
    "                        \"test_auc\": auc_score})\n",
    "    \n",
    "    mlflow.log_param(\"penalty\", \"l2\")\n",
    "\n",
    "    mlflow.sklearn.log_model(pipe, f\"heart_disease_{model_name}\")"
   ]
  },
  {
   "cell_type": "markdown",
   "metadata": {},
   "source": [
    "#### Decision Tree"
   ]
  },
  {
   "cell_type": "code",
   "execution_count": 42,
   "metadata": {},
   "outputs": [],
   "source": [
    "with mlflow.start_run(run_name = 'decision_tree'):\n",
    "    model_name = DecisionTreeClassifier().__class__.__name__\n",
    "    mlflow.set_tag('model_name',model_name)\n",
    "\n",
    "    pipe = Pipeline(steps = [\n",
    "        (\"transformers\", column_transformer),\n",
    "        (model_name, DecisionTreeClassifier(random_state=1234, max_depth=10))\n",
    "    ])\n",
    "\n",
    "    pipe.fit(X_train, y_train)\n",
    "\n",
    "    y_pred = pipe.predict(X_test)\n",
    "    y_pred_prob = pipe.predict_proba(X_test)[:,1]\n",
    "\n",
    "    accuracy = metrics.accuracy_score(y_true=y_test, y_pred=y_pred)\n",
    "    recall = metrics.recall_score(y_true=y_test, y_pred=y_pred)\n",
    "    precision = metrics.recall_score(y_true=y_test, y_pred=y_pred)\n",
    "    auc_score = metrics.roc_auc_score(y_true=y_test, y_score=y_pred_prob)\n",
    "\n",
    "    mlflow.log_metrics({\"test_accuracy\": accuracy, \"test_recall\": recall, \"test_precision\": precision,\n",
    "                        \"test_auc\": auc_score})\n",
    "\n",
    "    mlflow.log_param(\"max_depth\", 10)\n",
    "\n",
    "    mlflow.sklearn.log_model(pipe, f\"heart_disease_{model_name}\")"
   ]
  },
  {
   "cell_type": "markdown",
   "metadata": {},
   "source": [
    "#### Random Forest"
   ]
  },
  {
   "cell_type": "code",
   "execution_count": 43,
   "metadata": {},
   "outputs": [],
   "source": [
    "with mlflow.start_run(run_name = 'random_forest'):\n",
    "    model_name = RandomForestClassifier().__class__.__name__\n",
    "    mlflow.set_tag('model_name',model_name)\n",
    "\n",
    "    pipe = Pipeline(steps = [\n",
    "        (\"transformers\", column_transformer),\n",
    "        (model_name, RandomForestClassifier(random_state=1234, n_estimators=50))\n",
    "    ])\n",
    "\n",
    "    pipe.fit(X_train, y_train)\n",
    "\n",
    "    y_pred = pipe.predict(X_test)\n",
    "    y_pred_prob = pipe.predict_proba(X_test)[:,1]\n",
    "\n",
    "    accuracy = metrics.accuracy_score(y_true=y_test, y_pred=y_pred)\n",
    "    recall = metrics.recall_score(y_true=y_test, y_pred=y_pred)\n",
    "    precision = metrics.recall_score(y_true=y_test, y_pred=y_pred)\n",
    "    auc_score = metrics.roc_auc_score(y_true=y_test, y_score=y_pred_prob)\n",
    "\n",
    "    mlflow.log_metrics({\"test_accuracy\": accuracy, \"test_recall\": recall, \"test_precision\": precision,\n",
    "                        \"test_auc\": auc_score})\n",
    "\n",
    "    mlflow.log_param(\"n_estimators\", 50)\n",
    "\n",
    "    mlflow.sklearn.log_model(pipe, f\"heart_disease_{model_name}\")"
   ]
  },
  {
   "cell_type": "markdown",
   "metadata": {},
   "source": [
    "### Model Registry"
   ]
  },
  {
   "cell_type": "markdown",
   "metadata": {},
   "source": [
    "Set MLflow client"
   ]
  },
  {
   "cell_type": "code",
   "execution_count": 7,
   "metadata": {},
   "outputs": [
    {
     "data": {
      "text/plain": [
       "[<Experiment: artifact_location='', creation_time=1702957804159, experiment_id='d8fd18d1-884d-4a8d-8f4a-8eddef71c4d2', last_update_time=None, lifecycle_stage='active', name='heart_disease_exp', tags={}>,\n",
       " <Experiment: artifact_location='', creation_time=1704222578148, experiment_id='bf65e0e6-f77a-49c0-a50f-d7826d5ebffe', last_update_time=None, lifecycle_stage='active', name='heart_disease_exp2', tags={}>]"
      ]
     },
     "execution_count": 7,
     "metadata": {},
     "output_type": "execute_result"
    }
   ],
   "source": [
    "from mlflow.tracking import MlflowClient\n",
    "\n",
    "ML_FLOW_TRACKING_URI = mlflow.get_tracking_uri()\n",
    "client = MlflowClient(tracking_uri=ML_FLOW_TRACKING_URI)\n",
    "client.search_experiments()"
   ]
  },
  {
   "cell_type": "code",
   "execution_count": 8,
   "metadata": {},
   "outputs": [],
   "source": [
    "experiment_id = mlflow.get_experiment_by_name(\"heart_disease_exp2\").experiment_id"
   ]
  },
  {
   "cell_type": "markdown",
   "metadata": {},
   "source": [
    "Search runs with accuracy higher than 0.79"
   ]
  },
  {
   "cell_type": "code",
   "execution_count": 9,
   "metadata": {},
   "outputs": [
    {
     "data": {
      "text/plain": [
       "[<Run: data=<RunData: metrics={'test_accuracy': 0.8681318681318682,\n",
       "  'test_auc': 0.9387878787878787,\n",
       "  'test_precision': 0.72,\n",
       "  'test_recall': 0.72}, params={'penalty': 'l2'}, tags={'mlflow.rootRunId': '95542723-d632-4256-b2de-1ee66a0ddb66',\n",
       "  'mlflow.runName': 'log_reg_baseline',\n",
       "  'mlflow.user': 'Jose Luis Alcocer Cáceres',\n",
       "  'model_name': 'LogisticRegression'}>, info=<RunInfo: artifact_uri='', end_time=1704222633210, experiment_id='bf65e0e6-f77a-49c0-a50f-d7826d5ebffe', lifecycle_stage='active', run_id='95542723-d632-4256-b2de-1ee66a0ddb66', run_name='log_reg_baseline', run_uuid='95542723-d632-4256-b2de-1ee66a0ddb66', start_time=1704222627432, status='FINISHED', user_id='Jose Luis Alcocer Cáceres'>, inputs=<RunInputs: dataset_inputs=[]>>,\n",
       " <Run: data=<RunData: metrics={'test_accuracy': 0.8131868131868132,\n",
       "  'test_auc': 0.7593939393939395,\n",
       "  'test_precision': 0.64,\n",
       "  'test_recall': 0.64}, params={'max_depth': '10'}, tags={'mlflow.rootRunId': 'df216edd-113b-4dd3-b028-76708473726b',\n",
       "  'mlflow.runName': 'decision_tree',\n",
       "  'mlflow.user': 'Jose Luis Alcocer Cáceres',\n",
       "  'model_name': 'DecisionTreeClassifier'}>, info=<RunInfo: artifact_uri='', end_time=1704222641977, experiment_id='bf65e0e6-f77a-49c0-a50f-d7826d5ebffe', lifecycle_stage='active', run_id='df216edd-113b-4dd3-b028-76708473726b', run_name='decision_tree', run_uuid='df216edd-113b-4dd3-b028-76708473726b', start_time=1704222637843, status='FINISHED', user_id='Jose Luis Alcocer Cáceres'>, inputs=<RunInputs: dataset_inputs=[]>>,\n",
       " <Run: data=<RunData: metrics={'test_accuracy': 0.8571428571428571,\n",
       "  'test_auc': 0.9315151515151515,\n",
       "  'test_precision': 0.68,\n",
       "  'test_recall': 0.68}, params={'n_estimators': '50'}, tags={'mlflow.rootRunId': '26edd519-5513-4bb2-8628-76232614028c',\n",
       "  'mlflow.runName': 'random_forest',\n",
       "  'mlflow.user': 'Jose Luis Alcocer Cáceres',\n",
       "  'model_name': 'RandomForestClassifier'}>, info=<RunInfo: artifact_uri='', end_time=1704222646278, experiment_id='bf65e0e6-f77a-49c0-a50f-d7826d5ebffe', lifecycle_stage='active', run_id='26edd519-5513-4bb2-8628-76232614028c', run_name='random_forest', run_uuid='26edd519-5513-4bb2-8628-76232614028c', start_time=1704222642208, status='FINISHED', user_id='Jose Luis Alcocer Cáceres'>, inputs=<RunInputs: dataset_inputs=[]>>]"
      ]
     },
     "execution_count": 9,
     "metadata": {},
     "output_type": "execute_result"
    }
   ],
   "source": [
    "from mlflow.entities import ViewType\n",
    "\n",
    "runs = client.search_runs(\n",
    "    experiment_ids=experiment_id,\n",
    "    filter_string='metrics.test_accuracy > 0.79',\n",
    "    run_view_type=ViewType.ACTIVE_ONLY,\n",
    "    max_results=3\n",
    ")\n",
    "\n",
    "runs"
   ]
  },
  {
   "cell_type": "code",
   "execution_count": 10,
   "metadata": {},
   "outputs": [
    {
     "name": "stdout",
     "output_type": "stream",
     "text": [
      "run id: 95542723-d632-4256-b2de-1ee66a0ddb66, test_accuracy: 0.8681,  artifact: heart_disease_LogisticRegression\n",
      "run id: df216edd-113b-4dd3-b028-76708473726b, test_accuracy: 0.8132,  artifact: heart_disease_DecisionTreeClassifier\n",
      "run id: 26edd519-5513-4bb2-8628-76232614028c, test_accuracy: 0.8571,  artifact: heart_disease_RandomForestClassifier\n"
     ]
    }
   ],
   "source": [
    "for run in runs:\n",
    "    artifact = client.list_artifacts(run_id=run.info.run_id)[0].path\n",
    "    print(f\"run id: {run.info.run_id}, test_accuracy: {run.data.metrics['test_accuracy']:.4f},  artifact: {artifact}\")"
   ]
  },
  {
   "cell_type": "markdown",
   "metadata": {},
   "source": [
    "Registry Random Forest Classifier"
   ]
  },
  {
   "cell_type": "code",
   "execution_count": 11,
   "metadata": {},
   "outputs": [
    {
     "name": "stderr",
     "output_type": "stream",
     "text": [
      "Registered model 'heart_disease_model' already exists. Creating a new version of this model...\n",
      "2024/01/02 19:16:00 INFO mlflow.tracking._model_registry.client: Waiting up to 300 seconds for model version to finish creation. Model name: heart_disease_model, version 3\n",
      "Created version '3' of model 'heart_disease_model'.\n"
     ]
    },
    {
     "data": {
      "text/plain": [
       "<ModelVersion: aliases=[], creation_timestamp=1704222960774, current_stage='None', description='', last_updated_timestamp=1704222960774, name='heart_disease_model', run_id='26edd519-5513-4bb2-8628-76232614028c', run_link='', source='azureml://centralus.api.azureml.ms/mlflow/v2.0/subscriptions/fe465efa-7c36-4422-ab58-265e48560849/resourceGroups/machine-learning/providers/Microsoft.MachineLearningServices/workspaces/machine-learning-space/experiments/bf65e0e6-f77a-49c0-a50f-d7826d5ebffe/runs/26edd519-5513-4bb2-8628-76232614028c/artifacts/heart_disease_RandomForestClassifier', status='READY', status_message='', tags={}, user_id='', version='3'>"
      ]
     },
     "execution_count": 11,
     "metadata": {},
     "output_type": "execute_result"
    }
   ],
   "source": [
    "run_id = \"26edd519-5513-4bb2-8628-76232614028c\"\n",
    "artifact = \"heart_disease_RandomForestClassifier\"\n",
    "model_uri = f'runs:/{run_id}/{artifact}'\n",
    "mlflow.register_model(model_uri=model_uri, name = 'heart_disease_model')"
   ]
  },
  {
   "cell_type": "markdown",
   "metadata": {},
   "source": [
    "Change stage to production"
   ]
  },
  {
   "cell_type": "code",
   "execution_count": 15,
   "metadata": {},
   "outputs": [
    {
     "data": {
      "text/plain": [
       "<ModelVersion: aliases=[], creation_timestamp=1704222960774, current_stage='Production', description='', last_updated_timestamp=1704223236195, name='heart_disease_model', run_id='26edd519-5513-4bb2-8628-76232614028c', run_link='', source='azureml://centralus.api.azureml.ms/mlflow/v2.0/subscriptions/fe465efa-7c36-4422-ab58-265e48560849/resourceGroups/machine-learning/providers/Microsoft.MachineLearningServices/workspaces/machine-learning-space/experiments/bf65e0e6-f77a-49c0-a50f-d7826d5ebffe/runs/26edd519-5513-4bb2-8628-76232614028c/artifacts/heart_disease_RandomForestClassifier', status='READY', status_message='', tags={}, user_id='', version='3'>"
      ]
     },
     "execution_count": 15,
     "metadata": {},
     "output_type": "execute_result"
    }
   ],
   "source": [
    "model_name = 'heart_disease_model'\n",
    "model_version = 3\n",
    "new_stage = 'Production'\n",
    "client.transition_model_version_stage(\n",
    "    name=model_name,\n",
    "    version=model_version,\n",
    "    stage=new_stage,\n",
    "    archive_existing_versions=False\n",
    ")"
   ]
  },
  {
   "cell_type": "code",
   "execution_count": 19,
   "metadata": {},
   "outputs": [],
   "source": [
    "model_name = 'heart_disease_model'\n",
    "version = 3\n",
    "model_uri = f\"models:/{model_name}/{version}\"\n",
    "model=mlflow.sklearn.load_model(model_uri)"
   ]
  }
 ],
 "metadata": {
  "kernelspec": {
   "display_name": "Python 3.10 - SDK v2",
   "language": "python",
   "name": "python310-sdkv2"
  },
  "language_info": {
   "codemirror_mode": {
    "name": "ipython",
    "version": 3
   },
   "file_extension": ".py",
   "mimetype": "text/x-python",
   "name": "python",
   "nbconvert_exporter": "python",
   "pygments_lexer": "ipython3",
   "version": "3.10.11"
  }
 },
 "nbformat": 4,
 "nbformat_minor": 2
}
